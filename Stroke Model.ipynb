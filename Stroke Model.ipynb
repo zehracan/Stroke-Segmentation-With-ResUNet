{
 "cells": [
  {
   "cell_type": "code",
   "execution_count": 25,
   "id": "8851dec4",
   "metadata": {},
   "outputs": [],
   "source": [
    "import numpy as np\n",
    "import glob\n",
    "import tensorflow as tf\n",
    "from tensorflow.keras import layers, models\n",
    "import numpy as np\n",
    "from tensorflow.keras.utils import to_categorical\n",
    "from tensorflow import keras\n",
    "import matplotlib.pyplot as plt\n",
    "import pickle"
   ]
  },
  {
   "cell_type": "markdown",
   "id": "4c970bc4",
   "metadata": {},
   "source": [
    "# Load the data "
   ]
  },
  {
   "cell_type": "code",
   "execution_count": 26,
   "id": "9381b80d",
   "metadata": {},
   "outputs": [],
   "source": [
    "x_train = np.load(r\"C:\\Users\\asus\\Desktop\\Stroke-Segmentation\\graydata\\x_train.npy\") #*******\n",
    "x_train= x_train//255\n"
   ]
  },
  {
   "cell_type": "code",
   "execution_count": 27,
   "id": "235e2ef9",
   "metadata": {},
   "outputs": [],
   "source": [
    "x_test = np.load(r\"C:\\Users\\asus\\Desktop\\Stroke-Segmentation\\graydata\\x_test.npy\")\n",
    "x_test = x_test //255"
   ]
  },
  {
   "cell_type": "code",
   "execution_count": 28,
   "id": "db0925ff",
   "metadata": {},
   "outputs": [
    {
     "data": {
      "text/plain": [
       "0"
      ]
     },
     "execution_count": 28,
     "metadata": {},
     "output_type": "execute_result"
    }
   ],
   "source": [
    "x_test.min()"
   ]
  },
  {
   "cell_type": "code",
   "execution_count": 29,
   "id": "8e39270d",
   "metadata": {},
   "outputs": [
    {
     "data": {
      "text/plain": [
       "1.0"
      ]
     },
     "execution_count": 29,
     "metadata": {},
     "output_type": "execute_result"
    }
   ],
   "source": [
    "y_test = np.load(r\"C:\\Users\\asus\\Desktop\\Stroke-Segmentation\\graydata\\y_test2.npy\") #*********\n",
    "y_test.max()"
   ]
  },
  {
   "cell_type": "code",
   "execution_count": 30,
   "id": "62fdea25",
   "metadata": {},
   "outputs": [
    {
     "data": {
      "text/plain": [
       "0.0"
      ]
     },
     "execution_count": 30,
     "metadata": {},
     "output_type": "execute_result"
    }
   ],
   "source": [
    "y_test.min()"
   ]
  },
  {
   "cell_type": "code",
   "execution_count": 31,
   "id": "a987854e",
   "metadata": {},
   "outputs": [],
   "source": [
    "y_train = np.load(r\"C:\\Users\\asus\\Desktop\\Stroke-Segmentation\\graydata\\y_train2.npy\") #********************"
   ]
  },
  {
   "cell_type": "code",
   "execution_count": 32,
   "id": "e95cc604",
   "metadata": {},
   "outputs": [
    {
     "data": {
      "text/plain": [
       "0.0"
      ]
     },
     "execution_count": 32,
     "metadata": {},
     "output_type": "execute_result"
    }
   ],
   "source": [
    "y_train.min()"
   ]
  },
  {
   "cell_type": "code",
   "execution_count": 33,
   "id": "cceac20a",
   "metadata": {},
   "outputs": [
    {
     "data": {
      "text/plain": [
       "1.0"
      ]
     },
     "execution_count": 33,
     "metadata": {},
     "output_type": "execute_result"
    }
   ],
   "source": [
    "y_train.max()"
   ]
  },
  {
   "cell_type": "code",
   "execution_count": 34,
   "id": "cc01d1a3",
   "metadata": {},
   "outputs": [],
   "source": [
    "x_test2 = np.load(r\"C:\\Users\\asus\\Desktop\\Stroke-Segmentation\\graydata\\x_test2.npy\")  #***********\n"
   ]
  },
  {
   "cell_type": "code",
   "execution_count": 35,
   "id": "569e416b",
   "metadata": {},
   "outputs": [
    {
     "data": {
      "text/plain": [
       "(226, 128, 128, 2)"
      ]
     },
     "execution_count": 35,
     "metadata": {},
     "output_type": "execute_result"
    }
   ],
   "source": [
    "x_test2.shape"
   ]
  },
  {
   "cell_type": "code",
   "execution_count": 36,
   "id": "4fbf87a0",
   "metadata": {},
   "outputs": [
    {
     "data": {
      "text/plain": [
       "(904, 128, 128, 1)"
      ]
     },
     "execution_count": 36,
     "metadata": {},
     "output_type": "execute_result"
    }
   ],
   "source": [
    "x_train.shape"
   ]
  },
  {
   "cell_type": "code",
   "execution_count": 37,
   "id": "ea49eba4",
   "metadata": {},
   "outputs": [],
   "source": [
    "IMAGE_WIDTH = 128\n",
    "IMAGE_HEIGHT = 128\n",
    "IMAGE_CHANNELS = 1"
   ]
  },
  {
   "cell_type": "markdown",
   "id": "b3a372e5",
   "metadata": {},
   "source": [
    "\n",
    "# DEFINE YOUR OWN MODEL"
   ]
  },
  {
   "cell_type": "markdown",
   "id": "3263b1cc",
   "metadata": {},
   "source": [
    "### EARLY STOPPING"
   ]
  },
  {
   "cell_type": "code",
   "execution_count": 40,
   "id": "1f0b6fa3",
   "metadata": {},
   "outputs": [],
   "source": [
    "from tensorflow.keras.callbacks import EarlyStopping"
   ]
  },
  {
   "cell_type": "code",
   "execution_count": 41,
   "id": "ed47562b",
   "metadata": {},
   "outputs": [],
   "source": [
    "earlystop= EarlyStopping(\n",
    "    monitor=\"val_loss\",\n",
    "    patience=7)"
   ]
  },
  {
   "cell_type": "code",
   "execution_count": 42,
   "id": "8466ce46",
   "metadata": {},
   "outputs": [],
   "source": [
    "callbacks = [earlystop]"
   ]
  },
  {
   "cell_type": "code",
   "execution_count": 43,
   "id": "37687355",
   "metadata": {},
   "outputs": [],
   "source": [
    "BATCH_SIZE = 16\n",
    "EPOCHS = 35"
   ]
  },
  {
   "cell_type": "code",
   "execution_count": 44,
   "id": "92037ff4",
   "metadata": {
    "scrolled": false
   },
   "outputs": [
    {
     "name": "stdout",
     "output_type": "stream",
     "text": [
      "Epoch 1/35\n",
      "47/47 [==============================] - 7s 94ms/step - loss: 0.2693 - accuracy: 0.9580 - val_loss: 0.1962 - val_accuracy: 0.9786\n",
      "Epoch 2/35\n",
      "47/47 [==============================] - 3s 68ms/step - loss: 0.0587 - accuracy: 0.9777 - val_loss: 0.0972 - val_accuracy: 0.9786\n",
      "Epoch 3/35\n",
      "47/47 [==============================] - 3s 68ms/step - loss: 0.0432 - accuracy: 0.9778 - val_loss: 0.0624 - val_accuracy: 0.9786\n",
      "Epoch 4/35\n",
      "47/47 [==============================] - 3s 69ms/step - loss: 0.0373 - accuracy: 0.9781 - val_loss: 0.0594 - val_accuracy: 0.9786\n",
      "Epoch 5/35\n",
      "47/47 [==============================] - 3s 69ms/step - loss: 0.0313 - accuracy: 0.9790 - val_loss: 0.0600 - val_accuracy: 0.9786\n",
      "Epoch 6/35\n",
      "47/47 [==============================] - 3s 69ms/step - loss: 0.0285 - accuracy: 0.9781 - val_loss: 0.0655 - val_accuracy: 0.9786\n",
      "Epoch 7/35\n",
      "47/47 [==============================] - 3s 69ms/step - loss: 0.0248 - accuracy: 0.9798 - val_loss: 0.0688 - val_accuracy: 0.9786\n",
      "Epoch 8/35\n",
      "47/47 [==============================] - 3s 69ms/step - loss: 0.0236 - accuracy: 0.9796 - val_loss: 0.0663 - val_accuracy: 0.9786\n",
      "Epoch 9/35\n",
      "47/47 [==============================] - 3s 69ms/step - loss: 0.0220 - accuracy: 0.9803 - val_loss: 0.0608 - val_accuracy: 0.9786\n",
      "Epoch 10/35\n",
      "47/47 [==============================] - 3s 70ms/step - loss: 0.0223 - accuracy: 0.9791 - val_loss: 0.0532 - val_accuracy: 0.9786\n",
      "Epoch 11/35\n",
      "47/47 [==============================] - 3s 70ms/step - loss: 0.0210 - accuracy: 0.9804 - val_loss: 0.0594 - val_accuracy: 0.9786\n",
      "Epoch 12/35\n",
      "47/47 [==============================] - 3s 70ms/step - loss: 0.0208 - accuracy: 0.9801 - val_loss: 0.0430 - val_accuracy: 0.9789\n",
      "Epoch 13/35\n",
      "47/47 [==============================] - 3s 70ms/step - loss: 0.0200 - accuracy: 0.9809 - val_loss: 0.0379 - val_accuracy: 0.9791\n",
      "Epoch 14/35\n",
      "47/47 [==============================] - 3s 70ms/step - loss: 0.0193 - accuracy: 0.9806 - val_loss: 0.0395 - val_accuracy: 0.9793\n",
      "Epoch 15/35\n",
      "47/47 [==============================] - 3s 70ms/step - loss: 0.0199 - accuracy: 0.9803 - val_loss: 0.0409 - val_accuracy: 0.9801\n",
      "Epoch 16/35\n",
      "47/47 [==============================] - 3s 70ms/step - loss: 0.0188 - accuracy: 0.9817 - val_loss: 0.0413 - val_accuracy: 0.9788\n",
      "Epoch 17/35\n",
      "47/47 [==============================] - 3s 70ms/step - loss: 0.0183 - accuracy: 0.9817 - val_loss: 0.0385 - val_accuracy: 0.9793\n",
      "Epoch 18/35\n",
      "47/47 [==============================] - 3s 70ms/step - loss: 0.0188 - accuracy: 0.9808 - val_loss: 0.0421 - val_accuracy: 0.9794\n",
      "Epoch 19/35\n",
      "47/47 [==============================] - 3s 70ms/step - loss: 0.0182 - accuracy: 0.9816 - val_loss: 0.0432 - val_accuracy: 0.9790\n",
      "Epoch 20/35\n",
      "47/47 [==============================] - 3s 71ms/step - loss: 0.0184 - accuracy: 0.9818 - val_loss: 0.0457 - val_accuracy: 0.9788\n"
     ]
    }
   ],
   "source": [
    "history = model.fit(x_train,y_train,\n",
    "         epochs = EPOCHS,\n",
    "         batch_size = BATCH_SIZE,\n",
    "         steps_per_epoch = 766//BATCH_SIZE,\n",
    "         validation_split = 0.15,\n",
    "          callbacks = callbacks)"
   ]
  },
  {
   "cell_type": "code",
   "execution_count": 45,
   "id": "f267fa4a",
   "metadata": {},
   "outputs": [
    {
     "name": "stdout",
     "output_type": "stream",
     "text": [
      "8/8 [==============================] - 2s 131ms/step - loss: 0.0451 - accuracy: 0.9770\n"
     ]
    },
    {
     "data": {
      "text/plain": [
       "[0.04505622014403343, 0.9769775867462158]"
      ]
     },
     "execution_count": 45,
     "metadata": {},
     "output_type": "execute_result"
    }
   ],
   "source": [
    "model.evaluate(x_test,y_test)"
   ]
  },
  {
   "cell_type": "code",
   "execution_count": null,
   "id": "6f3192f8",
   "metadata": {},
   "outputs": [],
   "source": [
    "model.save(\"C:/Users/asus/Desktop/Stroke-Segmentation/stroke_model.h5\")"
   ]
  },
  {
   "cell_type": "code",
   "execution_count": 102,
   "id": "92197e5d",
   "metadata": {
    "scrolled": true
   },
   "outputs": [
    {
     "data": {
      "text/plain": [
       "(128, 128, 1)"
      ]
     },
     "execution_count": 102,
     "metadata": {},
     "output_type": "execute_result"
    },
    {
     "data": {
      "image/png": "[encoded data removed]",
      "text/plain": [
       "<Figure size 432x288 with 1 Axes>"
      ]
     },
     "metadata": {
      "needs_background": "light"
     },
     "output_type": "display_data"
    }
   ],
   "source": [
    "x_test_deneme = np.load(r\"C:\\Users\\asus\\Desktop\\Stroke-Segmentation\\graydata\\deneme.npy\")\n",
    "plt.imshow(x_test_deneme[:,:,0])\n",
    "x_test_deneme.shape"
   ]
  },
  {
   "cell_type": "code",
   "execution_count": 100,
   "id": "373221b4",
   "metadata": {},
   "outputs": [
    {
     "data": {
      "text/plain": [
       "(128, 128, 1)"
      ]
     },
     "execution_count": 100,
     "metadata": {},
     "output_type": "execute_result"
    }
   ],
   "source": [
    "x_test[100].shape"
   ]
  },
  {
   "cell_type": "code",
   "execution_count": 123,
   "id": "ea740f99",
   "metadata": {},
   "outputs": [
    {
     "data": {
      "text/plain": [
       "<matplotlib.image.AxesImage at 0x251191957b8>"
      ]
     },
     "execution_count": 123,
     "metadata": {},
     "output_type": "execute_result"
    },
    {
     "data": {
      "image/png": "[encoded data removed]",
      "text/plain": [
       "<Figure size 432x288 with 1 Axes>"
      ]
     },
     "metadata": {
      "needs_background": "light"
     },
     "output_type": "display_data"
    }
   ],
   "source": [
    "plt.imshow(y_test[5,:,:,0],interpolation = \"nearest\")\n"
   ]
  },
  {
   "cell_type": "code",
   "execution_count": 130,
   "id": "162fc93c",
   "metadata": {},
   "outputs": [],
   "source": [
    "a = np.expand_dims(x_test[5],axis = 0)"
   ]
  },
  {
   "cell_type": "code",
   "execution_count": 131,
   "id": "b239491f",
   "metadata": {},
   "outputs": [
    {
     "data": {
      "text/plain": [
       "(1, 128, 128, 1)"
      ]
     },
     "execution_count": 131,
     "metadata": {},
     "output_type": "execute_result"
    }
   ],
   "source": [
    "a.shape"
   ]
  },
  {
   "cell_type": "code",
   "execution_count": 132,
   "id": "8c8dbcb2",
   "metadata": {},
   "outputs": [],
   "source": [
    "#a.max()"
   ]
  },
  {
   "cell_type": "code",
   "execution_count": 133,
   "id": "d46510a8",
   "metadata": {},
   "outputs": [
    {
     "data": {
      "text/plain": [
       "0"
      ]
     },
     "execution_count": 133,
     "metadata": {},
     "output_type": "execute_result"
    }
   ],
   "source": [
    "a.min()"
   ]
  },
  {
   "cell_type": "code",
   "execution_count": 134,
   "id": "c317f5a8",
   "metadata": {},
   "outputs": [],
   "source": [
    "y_pred = model.predict(a)"
   ]
  },
  {
   "cell_type": "code",
   "execution_count": 139,
   "id": "400deec4",
   "metadata": {},
   "outputs": [
    {
     "data": {
      "text/plain": [
       "(128, 128)"
      ]
     },
     "execution_count": 139,
     "metadata": {},
     "output_type": "execute_result"
    }
   ],
   "source": [
    "o = y_pred[0,:,:,0]\n",
    "o.shape\n",
    "# o[o>0.5]=1\n",
    "# o[o<0.5]=0"
   ]
  },
  {
   "cell_type": "code",
   "execution_count": 140,
   "id": "a72996fc",
   "metadata": {},
   "outputs": [
    {
     "data": {
      "text/plain": [
       "(128, 128)"
      ]
     },
     "execution_count": 140,
     "metadata": {},
     "output_type": "execute_result"
    }
   ],
   "source": [
    "o.shape"
   ]
  },
  {
   "cell_type": "code",
   "execution_count": 141,
   "id": "fee10e0f",
   "metadata": {},
   "outputs": [
    {
     "data": {
      "text/plain": [
       "(1, 128, 128, 1)"
      ]
     },
     "execution_count": 141,
     "metadata": {},
     "output_type": "execute_result"
    }
   ],
   "source": [
    "a.shape"
   ]
  },
  {
   "cell_type": "code",
   "execution_count": 142,
   "id": "4354a4ee",
   "metadata": {},
   "outputs": [
    {
     "data": {
      "text/plain": [
       "<matplotlib.image.AxesImage at 0x2511b9e6c88>"
      ]
     },
     "execution_count": 142,
     "metadata": {},
     "output_type": "execute_result"
    },
    {
     "data": {
      "image/png": "[encoded data removed]",
      "text/plain": [
       "<Figure size 432x288 with 1 Axes>"
      ]
     },
     "metadata": {
      "needs_background": "light"
     },
     "output_type": "display_data"
    }
   ],
   "source": [
    "plt.imshow(o)"
   ]
  },
  {
   "cell_type": "code",
   "execution_count": 143,
   "id": "a571aa07",
   "metadata": {},
   "outputs": [
    {
     "data": {
      "image/png": "[encoded data removed]",
      "text/plain": [
       "<Figure size 432x288 with 1 Axes>"
      ]
     },
     "metadata": {
      "needs_background": "light"
     },
     "output_type": "display_data"
    }
   ],
   "source": [
    "plt.plot(history.history['accuracy'])\n",
    "plt.plot(history.history['val_accuracy'])\n",
    "plt.title('accuracy')\n",
    "plt.ylabel('acc')\n",
    "plt.xlabel('epoch')\n",
    "plt.legend(['acc', 'val'], loc='upper right')\n",
    "plt.show()"
   ]
  },
  {
   "cell_type": "code",
   "execution_count": null,
   "id": "89f6d427",
   "metadata": {},
   "outputs": [],
   "source": []
  }
 ],
 "metadata": {
  "kernelspec": {
   "display_name": "Python 3",
   "language": "python",
   "name": "python3"
  },
  "language_info": {
   "codemirror_mode": {
    "name": "ipython",
    "version": 3
   },
   "file_extension": ".py",
   "mimetype": "text/x-python",
   "name": "python",
   "nbconvert_exporter": "python",
   "pygments_lexer": "ipython3",
   "version": "3.6.9"
  }
 },
 "nbformat": 4,
 "nbformat_minor": 5
}
